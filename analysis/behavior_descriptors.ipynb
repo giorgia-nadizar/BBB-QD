{
 "cells": [
  {
   "cell_type": "code",
   "id": "initial_id",
   "metadata": {
    "collapsed": true,
    "ExecuteTime": {
     "end_time": "2024-04-15T07:56:18.563299Z",
     "start_time": "2024-04-15T07:56:15.435113Z"
    }
   },
   "source": [
    "from pathlib import Path\n",
    "import yaml\n",
    "import jax.numpy as jnp\n",
    "import numpy as np\n",
    "from qdax.core.gp.encoding import compute_encoding_function\n",
    "from bbbqd.body.bodies import encode_body\n",
    "from functools import partial\n",
    "from bbbqd.brain.controllers import compute_controller_generation_fn\n",
    "from bbbqd.wrappers import make_env\n",
    "from bbbqd.behavior.behavior_descriptors import _compute_spectrum\n",
    "import pandas as pd\n",
    "import seaborn as sns\n",
    "import matplotlib.pyplot as plt\n",
    "%matplotlib inline"
   ],
   "execution_count": 1,
   "outputs": []
  },
  {
   "metadata": {
    "ExecuteTime": {
     "end_time": "2024-04-15T07:56:18.590145Z",
     "start_time": "2024-04-15T07:56:18.567898Z"
    }
   },
   "cell_type": "code",
   "source": [
    "folder = \"../results/evo-body-5x5-me-s3_0\"\n",
    "extra_prefix = \"r3_\"\n",
    "config = yaml.safe_load(Path(f\"{folder}/config.yaml\").read_text())\n",
    "config[\"skip\"] = 1\n",
    "config[\"episode_length\"] = 5000\n",
    "\n",
    "# Define encoding function\n",
    "program_encoding_fn = compute_encoding_function(config)\n",
    "\n",
    "# Define function to return the proper controller\n",
    "controller_creation_fn = compute_controller_generation_fn(config)\n",
    "\n",
    "# Body encoding function\n",
    "body_encoding_fn = partial(encode_body, make_connected=True)"
   ],
   "id": "e61b0cac6109ca3d",
   "execution_count": 2,
   "outputs": []
  },
  {
   "metadata": {
    "ExecuteTime": {
     "end_time": "2024-04-15T07:56:18.838202Z",
     "start_time": "2024-04-15T07:56:18.831303Z"
    }
   },
   "cell_type": "code",
   "source": [
    "def get_genotype(position: int) -> jnp.ndarray:\n",
    "    # Load fitnesses and genotypes\n",
    "    try:\n",
    "        fitnesses = jnp.load(f\"{folder}/{extra_prefix}scores.npy\")\n",
    "    except FileNotFoundError:\n",
    "        fitnesses = jnp.load(f\"{folder}/{extra_prefix}fitnesses.npy\")\n",
    "    genotypes = jnp.load(f\"{folder}/{extra_prefix}genotypes.npy\")\n",
    "\n",
    "    # Find best\n",
    "    return genotypes[jnp.argmax(fitnesses)].astype(int) if position is None else genotypes[position].astype(int)"
   ],
   "id": "5bdf77175e351a08",
   "execution_count": 3,
   "outputs": []
  },
  {
   "metadata": {
    "ExecuteTime": {
     "end_time": "2024-04-15T07:56:21.337108Z",
     "start_time": "2024-04-15T07:56:21.330311Z"
    }
   },
   "cell_type": "code",
   "source": [
    "def full_descriptors(genome: jnp.ndarray) -> jnp.ndarray:\n",
    "    body_genome, controller_genome = jnp.split(genome, [config[\"grid_size\"] ** 2])\n",
    "    controller = controller_creation_fn(program_encoding_fn(controller_genome))\n",
    "    body = body_encoding_fn(body_genome)\n",
    "\n",
    "    env = make_env(config, body)\n",
    "    cumulative_reward = 0\n",
    "    obs = env.reset()\n",
    "    descriptors = []\n",
    "    for _ in range(config[\"episode_length\"]):\n",
    "        action = controller.compute_action(obs)\n",
    "        obs, reward, done, info = env.step(action)\n",
    "        descriptors.append(\n",
    "            np.asarray([info[\"velocity\"][1], info[\"angle\"][0]])\n",
    "        )\n",
    "        cumulative_reward += reward\n",
    "        if done:\n",
    "            break\n",
    "\n",
    "    env.close()\n",
    "\n",
    "    return np.asarray(descriptors).transpose()"
   ],
   "id": "fb48676c918bdbf7",
   "execution_count": 4,
   "outputs": []
  },
  {
   "metadata": {
    "ExecuteTime": {
     "end_time": "2024-04-15T08:21:47.058257Z",
     "start_time": "2024-04-15T08:21:34.073293Z"
    }
   },
   "cell_type": "code",
   "source": [
    "position_names = {\n",
    "    749: \"low-x+high-y\",\n",
    "    687: \"high-x+high-y\",\n",
    "    200: \"high-x+low-y\",\n",
    "    967: \"low-x+low-y\",\n",
    "}\n",
    "descriptors_list = []\n",
    "spectra_list = []\n",
    "for pos, name in position_names.items():\n",
    "    descriptors = full_descriptors(get_genotype(pos))\n",
    "    spectra = np.asarray([_compute_spectrum(i) for i in descriptors])\n",
    "    print(descriptors.shape)\n",
    "    descriptors_list.append(descriptors)\n",
    "    spectra_list.append(spectra)"
   ],
   "id": "d18f2b5813d5cc9b",
   "execution_count": 7,
   "outputs": []
  },
  {
   "metadata": {
    "ExecuteTime": {
     "end_time": "2024-04-15T07:56:37.496134Z",
     "start_time": "2024-04-15T07:56:37.088909Z"
    }
   },
   "cell_type": "code",
   "source": [
    "colors = [\"r\", \"y\", \"g\", \"b\"]\n",
    "plt.subplot(1, 2, 1)\n",
    "for i in range(4):\n",
    "    plt.plot(descriptors_list[i][0], c=colors[i])\n",
    "plt.title(\"y velocity\")\n",
    "plt.subplot(1, 2, 2)\n",
    "for i in range(4):\n",
    "    plt.plot(descriptors_list[i][1], c=colors[i])\n",
    "plt.title(\"angle\")\n",
    "plt.show()"
   ],
   "id": "ab79b35c1b2c3795",
   "execution_count": 6,
   "outputs": []
  },
  {
   "metadata": {
    "jupyter": {
     "is_executing": true
    }
   },
   "cell_type": "code",
   "source": [
    "plt.subplot(1, 2, 1)\n",
    "for i in range(4):\n",
    "    plt.plot(spectra_list[i][0], c=colors[i])\n",
    "plt.title(\"y velocity sp\")\n",
    "plt.subplot(1, 2, 2)\n",
    "for i in range(4):\n",
    "    plt.plot(spectra_list[i][1], c=colors[i])\n",
    "plt.title(\"angle sp\")\n",
    "plt.show()"
   ],
   "id": "931044178d17f2d0",
   "execution_count": null,
   "outputs": []
  }
 ],
 "metadata": {
  "kernelspec": {
   "display_name": "Python 3",
   "language": "python",
   "name": "python3"
  },
  "language_info": {
   "codemirror_mode": {
    "name": "ipython",
    "version": 2
   },
   "file_extension": ".py",
   "mimetype": "text/x-python",
   "name": "python",
   "nbconvert_exporter": "python",
   "pygments_lexer": "ipython2",
   "version": "2.7.6"
  }
 },
 "nbformat": 4,
 "nbformat_minor": 5
}
